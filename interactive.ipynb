{
 "cells": [
  {
   "cell_type": "code",
   "execution_count": null,
   "id": "aabd40b9-950b-4b0a-bbdd-634934474f7c",
   "metadata": {},
   "outputs": [],
   "source": [
    "%load_ext autotime\n",
    "\n",
    "%load_ext autoreload\n",
    "%autoreload 2"
   ]
  },
  {
   "cell_type": "code",
   "execution_count": null,
   "id": "b0ff9ef7-a56d-47c7-a50c-0a2bb38d3a6a",
   "metadata": {},
   "outputs": [],
   "source": [
    "import ceph_utils as utils\n",
    "from config import Config"
   ]
  },
  {
   "cell_type": "code",
   "execution_count": null,
   "id": "ab5a635a-9cd3-45ae-8889-a5d6022ee820",
   "metadata": {},
   "outputs": [],
   "source": [
    "resource = utils.get_resource()"
   ]
  },
  {
   "cell_type": "code",
   "execution_count": null,
   "id": "ec7d2e30-3e1e-4cdc-be3f-8278011d2cbe",
   "metadata": {},
   "outputs": [],
   "source": [
    "bucket = utils.get_bucket(resource=resource, bucket_name=Config.bucket_name)"
   ]
  },
  {
   "cell_type": "code",
   "execution_count": null,
   "id": "11ded9f2-2455-42c2-9f40-2cb275a0d98a",
   "metadata": {},
   "outputs": [],
   "source": [
    "bucket"
   ]
  },
  {
   "cell_type": "markdown",
   "id": "5c994b4a-0cd9-47f0-962e-5c27c88b20fb",
   "metadata": {},
   "source": [
    "### File list"
   ]
  },
  {
   "cell_type": "code",
   "execution_count": null,
   "id": "0a14cf97-9686-4f6d-adec-ab844879bbbc",
   "metadata": {},
   "outputs": [],
   "source": [
    "prefix='<prefix_name>'\n",
    "utils.print_filenames(bucket=bucket, prefix=prefix)"
   ]
  },
  {
   "cell_type": "code",
   "execution_count": null,
   "id": "b3cfa1e0-54b7-4e6a-8b96-b3dae27ac0df",
   "metadata": {},
   "outputs": [],
   "source": []
  },
  {
   "cell_type": "markdown",
   "id": "23ab145f-8ab2-4022-95e4-7831c02b1594",
   "metadata": {
    "tags": []
   },
   "source": [
    "### File size"
   ]
  },
  {
   "cell_type": "code",
   "execution_count": null,
   "id": "f4bdcbdd-51ca-455f-8215-2e7dd779263f",
   "metadata": {},
   "outputs": [],
   "source": [
    "prefix='<filepath>'\n",
    "byte_size = utils.get_file_size(bucket=bucket, prefix=prefix)\n",
    "print(f'total bucket size: {byte_size//1000/1024/1024} GB')"
   ]
  },
  {
   "cell_type": "code",
   "execution_count": null,
   "id": "5d4ad888-6ff8-47db-9424-399243ea0685",
   "metadata": {},
   "outputs": [],
   "source": []
  },
  {
   "cell_type": "markdown",
   "id": "14777533-7013-4335-82db-bf5cd681a40b",
   "metadata": {},
   "source": [
    "### Upload: K8s to CEPH"
   ]
  },
  {
   "cell_type": "code",
   "execution_count": null,
   "id": "00439bd0-72f3-4854-8ba1-9fbde403191d",
   "metadata": {},
   "outputs": [],
   "source": [
    "filename = '<local_filepath>'\n",
    "key= '<ceph_filepath>'\n",
    "utils.upload_file(bucket, filename, key)"
   ]
  },
  {
   "cell_type": "code",
   "execution_count": null,
   "id": "53d085bd-a54b-425c-ac53-4cf874f29de2",
   "metadata": {},
   "outputs": [],
   "source": []
  },
  {
   "cell_type": "markdown",
   "id": "7d3c5ef7-49b2-402a-a2a4-c5db00af012a",
   "metadata": {},
   "source": [
    "### Download: CEPH to K8s"
   ]
  },
  {
   "cell_type": "code",
   "execution_count": null,
   "id": "c5070882-7f02-4302-af11-2da74a05dc69",
   "metadata": {},
   "outputs": [],
   "source": [
    "filename = '<local_filepath>'\n",
    "key= '<ceph_filepath>'\n",
    "utils.download_file(bucket, filename, key)"
   ]
  },
  {
   "cell_type": "code",
   "execution_count": null,
   "id": "c2d54109-ecc0-464c-bd50-c0d94179d21f",
   "metadata": {},
   "outputs": [],
   "source": []
  },
  {
   "cell_type": "markdown",
   "id": "ff283505-8eb9-4a25-b961-67532ed84dcf",
   "metadata": {},
   "source": [
    "### Read from CEPH"
   ]
  },
  {
   "cell_type": "code",
   "execution_count": null,
   "id": "1262d9e9-cf22-41b6-b9aa-1172fbb011f2",
   "metadata": {},
   "outputs": [],
   "source": [
    "key = '<ceph_filepath>'\n",
    "client = utils.get_client()\n",
    "df = utils.read_parquet(client, bucket=Config.bucket_name, key=key)"
   ]
  },
  {
   "cell_type": "code",
   "execution_count": null,
   "id": "3549d5e4-2aed-48e6-9962-10a56e576ee7",
   "metadata": {},
   "outputs": [],
   "source": [
    "df.info()"
   ]
  },
  {
   "cell_type": "code",
   "execution_count": null,
   "id": "e8235eb2-4cfa-4c12-8910-174610aba967",
   "metadata": {},
   "outputs": [],
   "source": []
  },
  {
   "cell_type": "markdown",
   "id": "3c44b143-e3c2-4d04-9406-1398ede9cd78",
   "metadata": {},
   "source": [
    "### Delete File"
   ]
  },
  {
   "cell_type": "code",
   "execution_count": null,
   "id": "7467f284-a8e6-4518-9f3c-41a46aeda0ae",
   "metadata": {},
   "outputs": [],
   "source": [
    "key_list = [\n",
    "                '<ceph_filepath_1>',\n",
    "                '<ceph_filepath_2>'\n",
    "            ]"
   ]
  },
  {
   "cell_type": "code",
   "execution_count": null,
   "id": "dab0c6f5-5eee-4392-a3a0-bac1dcd2cb3d",
   "metadata": {},
   "outputs": [],
   "source": [
    "bucket_name = Config.bucket_name\n",
    "for key in key_list:\n",
    "    utils.delete_file(resource=resource, bucket_name=bucket_name, key=key)"
   ]
  },
  {
   "cell_type": "code",
   "execution_count": null,
   "id": "f3278e77-3a09-4326-a4da-9dbda3582ec7",
   "metadata": {},
   "outputs": [],
   "source": []
  }
 ],
 "metadata": {
  "kernelspec": {
   "display_name": "env1",
   "language": "python",
   "name": "env1"
  },
  "language_info": {
   "codemirror_mode": {
    "name": "ipython",
    "version": 3
   },
   "file_extension": ".py",
   "mimetype": "text/x-python",
   "name": "python",
   "nbconvert_exporter": "python",
   "pygments_lexer": "ipython3",
   "version": "3.12.3"
  }
 },
 "nbformat": 4,
 "nbformat_minor": 5
}
